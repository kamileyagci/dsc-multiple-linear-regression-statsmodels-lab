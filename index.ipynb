{
 "cells": [
  {
   "cell_type": "markdown",
   "metadata": {},
   "source": [
    "# Multiple Linear Regression in Statsmodels - Lab"
   ]
  },
  {
   "cell_type": "markdown",
   "metadata": {},
   "source": [
    "## Introduction\n",
    "In this lab, you'll practice fitting a multiple linear regression model on the Ames Housing dataset!"
   ]
  },
  {
   "cell_type": "markdown",
   "metadata": {},
   "source": [
    "## Objectives\n",
    "You will be able to:\n",
    "* Determine if it is necessary to perform normalization/standardization for a specific model or set of data\n",
    "* Use standardization/normalization on features of a dataset\n",
    "* Identify if it is necessary to perform log transformations on a set of features\n",
    "* Perform log transformations on different features of a dataset\n",
    "* Use statsmodels to fit a multiple linear regression model\n",
    "* Evaluate a linear regression model by using statistical performance metrics pertaining to overall model and specific parameters\n"
   ]
  },
  {
   "cell_type": "markdown",
   "metadata": {},
   "source": [
    "## The Ames Housing Data"
   ]
  },
  {
   "cell_type": "markdown",
   "metadata": {},
   "source": [
    "Using the specified continuous and categorical features, preprocess your data to prepare for modeling:\n",
    "* Split off and one hot encode the categorical features of interest\n",
    "* Log and scale the selected continuous features"
   ]
  },
  {
   "cell_type": "code",
   "execution_count": 32,
   "metadata": {},
   "outputs": [],
   "source": [
    "import pandas as pd\n",
    "import numpy as np\n",
    "\n",
    "ames = pd.read_csv('ames.csv')\n",
    "\n",
    "continuous = ['LotArea', '1stFlrSF', 'GrLivArea', 'SalePrice']\n",
    "categoricals = ['BldgType', 'KitchenQual', 'SaleType', 'MSZoning', 'Street', 'Neighborhood']\n"
   ]
  },
  {
   "cell_type": "markdown",
   "metadata": {},
   "source": [
    "## Continuous Features"
   ]
  },
  {
   "cell_type": "code",
   "execution_count": 124,
   "metadata": {},
   "outputs": [
    {
     "data": {
      "text/html": [
       "<div>\n",
       "<style scoped>\n",
       "    .dataframe tbody tr th:only-of-type {\n",
       "        vertical-align: middle;\n",
       "    }\n",
       "\n",
       "    .dataframe tbody tr th {\n",
       "        vertical-align: top;\n",
       "    }\n",
       "\n",
       "    .dataframe thead th {\n",
       "        text-align: right;\n",
       "    }\n",
       "</style>\n",
       "<table border=\"1\" class=\"dataframe\">\n",
       "  <thead>\n",
       "    <tr style=\"text-align: right;\">\n",
       "      <th></th>\n",
       "      <th>LotArea_scaled</th>\n",
       "      <th>FirstFlrSF_scaled</th>\n",
       "      <th>GrLivArea_scaled</th>\n",
       "      <th>SalePrice_scaled</th>\n",
       "    </tr>\n",
       "  </thead>\n",
       "  <tbody>\n",
       "    <tr>\n",
       "      <th>0</th>\n",
       "      <td>-0.133231</td>\n",
       "      <td>-0.803570</td>\n",
       "      <td>0.529260</td>\n",
       "      <td>0.560068</td>\n",
       "    </tr>\n",
       "    <tr>\n",
       "      <th>1</th>\n",
       "      <td>0.113442</td>\n",
       "      <td>0.418585</td>\n",
       "      <td>-0.381846</td>\n",
       "      <td>0.212764</td>\n",
       "    </tr>\n",
       "    <tr>\n",
       "      <th>2</th>\n",
       "      <td>0.420061</td>\n",
       "      <td>-0.576560</td>\n",
       "      <td>0.659675</td>\n",
       "      <td>0.734046</td>\n",
       "    </tr>\n",
       "    <tr>\n",
       "      <th>3</th>\n",
       "      <td>0.103347</td>\n",
       "      <td>-0.439287</td>\n",
       "      <td>0.541511</td>\n",
       "      <td>-0.437382</td>\n",
       "    </tr>\n",
       "    <tr>\n",
       "      <th>4</th>\n",
       "      <td>0.878409</td>\n",
       "      <td>0.112267</td>\n",
       "      <td>1.282191</td>\n",
       "      <td>1.014651</td>\n",
       "    </tr>\n",
       "  </tbody>\n",
       "</table>\n",
       "</div>"
      ],
      "text/plain": [
       "   LotArea_scaled  FirstFlrSF_scaled  GrLivArea_scaled  SalePrice_scaled\n",
       "0       -0.133231          -0.803570          0.529260          0.560068\n",
       "1        0.113442           0.418585         -0.381846          0.212764\n",
       "2        0.420061          -0.576560          0.659675          0.734046\n",
       "3        0.103347          -0.439287          0.541511         -0.437382\n",
       "4        0.878409           0.112267          1.282191          1.014651"
      ]
     },
     "execution_count": 124,
     "metadata": {},
     "output_type": "execute_result"
    }
   ],
   "source": [
    "# Log transform and normalize\n",
    "df_con = pd.DataFrame()\n",
    "for col in continuous:\n",
    "    ds_l = np.log(ames[col])\n",
    "    ds_sc = (ds_l-np.mean(ds_l))/np.std(ds_l)\n",
    "    df_con[col+'_scaled'] = ds_sc\n",
    "\n",
    "df_con.rename(columns={'1stFlrSF_scaled':'FirstFlrSF_scaled'}, inplace=True)\n",
    "df_con.head()"
   ]
  },
  {
   "cell_type": "markdown",
   "metadata": {},
   "source": [
    "## Categorical Features"
   ]
  },
  {
   "cell_type": "code",
   "execution_count": 125,
   "metadata": {},
   "outputs": [
    {
     "data": {
      "text/html": [
       "<div>\n",
       "<style scoped>\n",
       "    .dataframe tbody tr th:only-of-type {\n",
       "        vertical-align: middle;\n",
       "    }\n",
       "\n",
       "    .dataframe tbody tr th {\n",
       "        vertical-align: top;\n",
       "    }\n",
       "\n",
       "    .dataframe thead th {\n",
       "        text-align: right;\n",
       "    }\n",
       "</style>\n",
       "<table border=\"1\" class=\"dataframe\">\n",
       "  <thead>\n",
       "    <tr style=\"text-align: right;\">\n",
       "      <th></th>\n",
       "      <th>BType_2fmCon</th>\n",
       "      <th>BType_Duplex</th>\n",
       "      <th>BType_Twnhs</th>\n",
       "      <th>BType_TwnhsE</th>\n",
       "      <th>KQual_Fa</th>\n",
       "      <th>KQual_Gd</th>\n",
       "      <th>KQual_TA</th>\n",
       "      <th>SType_CWD</th>\n",
       "      <th>SType_Con</th>\n",
       "      <th>SType_ConLD</th>\n",
       "      <th>...</th>\n",
       "      <th>Neigh_NoRidge</th>\n",
       "      <th>Neigh_NridgHt</th>\n",
       "      <th>Neigh_OldTown</th>\n",
       "      <th>Neigh_SWISU</th>\n",
       "      <th>Neigh_Sawyer</th>\n",
       "      <th>Neigh_SawyerW</th>\n",
       "      <th>Neigh_Somerst</th>\n",
       "      <th>Neigh_StoneBr</th>\n",
       "      <th>Neigh_Timber</th>\n",
       "      <th>Neigh_Veenker</th>\n",
       "    </tr>\n",
       "  </thead>\n",
       "  <tbody>\n",
       "    <tr>\n",
       "      <th>0</th>\n",
       "      <td>0</td>\n",
       "      <td>0</td>\n",
       "      <td>0</td>\n",
       "      <td>0</td>\n",
       "      <td>0</td>\n",
       "      <td>1</td>\n",
       "      <td>0</td>\n",
       "      <td>0</td>\n",
       "      <td>0</td>\n",
       "      <td>0</td>\n",
       "      <td>...</td>\n",
       "      <td>0</td>\n",
       "      <td>0</td>\n",
       "      <td>0</td>\n",
       "      <td>0</td>\n",
       "      <td>0</td>\n",
       "      <td>0</td>\n",
       "      <td>0</td>\n",
       "      <td>0</td>\n",
       "      <td>0</td>\n",
       "      <td>0</td>\n",
       "    </tr>\n",
       "    <tr>\n",
       "      <th>1</th>\n",
       "      <td>0</td>\n",
       "      <td>0</td>\n",
       "      <td>0</td>\n",
       "      <td>0</td>\n",
       "      <td>0</td>\n",
       "      <td>0</td>\n",
       "      <td>1</td>\n",
       "      <td>0</td>\n",
       "      <td>0</td>\n",
       "      <td>0</td>\n",
       "      <td>...</td>\n",
       "      <td>0</td>\n",
       "      <td>0</td>\n",
       "      <td>0</td>\n",
       "      <td>0</td>\n",
       "      <td>0</td>\n",
       "      <td>0</td>\n",
       "      <td>0</td>\n",
       "      <td>0</td>\n",
       "      <td>0</td>\n",
       "      <td>1</td>\n",
       "    </tr>\n",
       "    <tr>\n",
       "      <th>2</th>\n",
       "      <td>0</td>\n",
       "      <td>0</td>\n",
       "      <td>0</td>\n",
       "      <td>0</td>\n",
       "      <td>0</td>\n",
       "      <td>1</td>\n",
       "      <td>0</td>\n",
       "      <td>0</td>\n",
       "      <td>0</td>\n",
       "      <td>0</td>\n",
       "      <td>...</td>\n",
       "      <td>0</td>\n",
       "      <td>0</td>\n",
       "      <td>0</td>\n",
       "      <td>0</td>\n",
       "      <td>0</td>\n",
       "      <td>0</td>\n",
       "      <td>0</td>\n",
       "      <td>0</td>\n",
       "      <td>0</td>\n",
       "      <td>0</td>\n",
       "    </tr>\n",
       "    <tr>\n",
       "      <th>3</th>\n",
       "      <td>0</td>\n",
       "      <td>0</td>\n",
       "      <td>0</td>\n",
       "      <td>0</td>\n",
       "      <td>0</td>\n",
       "      <td>1</td>\n",
       "      <td>0</td>\n",
       "      <td>0</td>\n",
       "      <td>0</td>\n",
       "      <td>0</td>\n",
       "      <td>...</td>\n",
       "      <td>0</td>\n",
       "      <td>0</td>\n",
       "      <td>0</td>\n",
       "      <td>0</td>\n",
       "      <td>0</td>\n",
       "      <td>0</td>\n",
       "      <td>0</td>\n",
       "      <td>0</td>\n",
       "      <td>0</td>\n",
       "      <td>0</td>\n",
       "    </tr>\n",
       "    <tr>\n",
       "      <th>4</th>\n",
       "      <td>0</td>\n",
       "      <td>0</td>\n",
       "      <td>0</td>\n",
       "      <td>0</td>\n",
       "      <td>0</td>\n",
       "      <td>1</td>\n",
       "      <td>0</td>\n",
       "      <td>0</td>\n",
       "      <td>0</td>\n",
       "      <td>0</td>\n",
       "      <td>...</td>\n",
       "      <td>1</td>\n",
       "      <td>0</td>\n",
       "      <td>0</td>\n",
       "      <td>0</td>\n",
       "      <td>0</td>\n",
       "      <td>0</td>\n",
       "      <td>0</td>\n",
       "      <td>0</td>\n",
       "      <td>0</td>\n",
       "      <td>0</td>\n",
       "    </tr>\n",
       "  </tbody>\n",
       "</table>\n",
       "<p>5 rows × 44 columns</p>\n",
       "</div>"
      ],
      "text/plain": [
       "   BType_2fmCon  BType_Duplex  BType_Twnhs  BType_TwnhsE  KQual_Fa  KQual_Gd  \\\n",
       "0             0             0            0             0         0         1   \n",
       "1             0             0            0             0         0         0   \n",
       "2             0             0            0             0         0         1   \n",
       "3             0             0            0             0         0         1   \n",
       "4             0             0            0             0         0         1   \n",
       "\n",
       "   KQual_TA  SType_CWD  SType_Con  SType_ConLD  ...  Neigh_NoRidge  \\\n",
       "0         0          0          0            0  ...              0   \n",
       "1         1          0          0            0  ...              0   \n",
       "2         0          0          0            0  ...              0   \n",
       "3         0          0          0            0  ...              0   \n",
       "4         0          0          0            0  ...              1   \n",
       "\n",
       "   Neigh_NridgHt  Neigh_OldTown  Neigh_SWISU  Neigh_Sawyer  Neigh_SawyerW  \\\n",
       "0              0              0            0             0              0   \n",
       "1              0              0            0             0              0   \n",
       "2              0              0            0             0              0   \n",
       "3              0              0            0             0              0   \n",
       "4              0              0            0             0              0   \n",
       "\n",
       "   Neigh_Somerst  Neigh_StoneBr  Neigh_Timber  Neigh_Veenker  \n",
       "0              0              0             0              0  \n",
       "1              0              0             0              1  \n",
       "2              0              0             0              0  \n",
       "3              0              0             0              0  \n",
       "4              0              0             0              0  \n",
       "\n",
       "[5 rows x 44 columns]"
      ]
     },
     "execution_count": 125,
     "metadata": {},
     "output_type": "execute_result"
    }
   ],
   "source": [
    "# One hot encode categoricals\n",
    "categoricals_pref = ['BType', 'KQual', 'SType', 'MSZ', 'Str', 'Neigh']\n",
    "df_cat = pd.get_dummies(ames[categoricals], prefix=categoricals_pref, drop_first=True)\n",
    "df_cat.head()"
   ]
  },
  {
   "cell_type": "markdown",
   "metadata": {},
   "source": [
    "## Combine Categorical and Continuous Features"
   ]
  },
  {
   "cell_type": "code",
   "execution_count": 126,
   "metadata": {},
   "outputs": [
    {
     "name": "stdout",
     "output_type": "stream",
     "text": [
      "<class 'pandas.core.frame.DataFrame'>\n",
      "RangeIndex: 1460 entries, 0 to 1459\n",
      "Data columns (total 48 columns):\n",
      " #   Column             Non-Null Count  Dtype  \n",
      "---  ------             --------------  -----  \n",
      " 0   LotArea_scaled     1460 non-null   float64\n",
      " 1   FirstFlrSF_scaled  1460 non-null   float64\n",
      " 2   GrLivArea_scaled   1460 non-null   float64\n",
      " 3   SalePrice_scaled   1460 non-null   float64\n",
      " 4   BType_2fmCon       1460 non-null   uint8  \n",
      " 5   BType_Duplex       1460 non-null   uint8  \n",
      " 6   BType_Twnhs        1460 non-null   uint8  \n",
      " 7   BType_TwnhsE       1460 non-null   uint8  \n",
      " 8   KQual_Fa           1460 non-null   uint8  \n",
      " 9   KQual_Gd           1460 non-null   uint8  \n",
      " 10  KQual_TA           1460 non-null   uint8  \n",
      " 11  SType_CWD          1460 non-null   uint8  \n",
      " 12  SType_Con          1460 non-null   uint8  \n",
      " 13  SType_ConLD        1460 non-null   uint8  \n",
      " 14  SType_ConLI        1460 non-null   uint8  \n",
      " 15  SType_ConLw        1460 non-null   uint8  \n",
      " 16  SType_New          1460 non-null   uint8  \n",
      " 17  SType_Oth          1460 non-null   uint8  \n",
      " 18  SType_WD           1460 non-null   uint8  \n",
      " 19  MSZ_FV             1460 non-null   uint8  \n",
      " 20  MSZ_RH             1460 non-null   uint8  \n",
      " 21  MSZ_RL             1460 non-null   uint8  \n",
      " 22  MSZ_RM             1460 non-null   uint8  \n",
      " 23  Str_Pave           1460 non-null   uint8  \n",
      " 24  Neigh_Blueste      1460 non-null   uint8  \n",
      " 25  Neigh_BrDale       1460 non-null   uint8  \n",
      " 26  Neigh_BrkSide      1460 non-null   uint8  \n",
      " 27  Neigh_ClearCr      1460 non-null   uint8  \n",
      " 28  Neigh_CollgCr      1460 non-null   uint8  \n",
      " 29  Neigh_Crawfor      1460 non-null   uint8  \n",
      " 30  Neigh_Edwards      1460 non-null   uint8  \n",
      " 31  Neigh_Gilbert      1460 non-null   uint8  \n",
      " 32  Neigh_IDOTRR       1460 non-null   uint8  \n",
      " 33  Neigh_MeadowV      1460 non-null   uint8  \n",
      " 34  Neigh_Mitchel      1460 non-null   uint8  \n",
      " 35  Neigh_NAmes        1460 non-null   uint8  \n",
      " 36  Neigh_NPkVill      1460 non-null   uint8  \n",
      " 37  Neigh_NWAmes       1460 non-null   uint8  \n",
      " 38  Neigh_NoRidge      1460 non-null   uint8  \n",
      " 39  Neigh_NridgHt      1460 non-null   uint8  \n",
      " 40  Neigh_OldTown      1460 non-null   uint8  \n",
      " 41  Neigh_SWISU        1460 non-null   uint8  \n",
      " 42  Neigh_Sawyer       1460 non-null   uint8  \n",
      " 43  Neigh_SawyerW      1460 non-null   uint8  \n",
      " 44  Neigh_Somerst      1460 non-null   uint8  \n",
      " 45  Neigh_StoneBr      1460 non-null   uint8  \n",
      " 46  Neigh_Timber       1460 non-null   uint8  \n",
      " 47  Neigh_Veenker      1460 non-null   uint8  \n",
      "dtypes: float64(4), uint8(44)\n",
      "memory usage: 108.5 KB\n"
     ]
    }
   ],
   "source": [
    "# combine features into a single dataframe called preprocessed\n",
    "ames_preprocessed = pd.concat([df_con, df_cat], axis=1)\n",
    "ames_preprocessed.info()"
   ]
  },
  {
   "cell_type": "markdown",
   "metadata": {},
   "source": [
    "## Run a linear model with SalePrice as the target variable in statsmodels"
   ]
  },
  {
   "cell_type": "code",
   "execution_count": 127,
   "metadata": {},
   "outputs": [],
   "source": [
    "import statsmodels.api as sm\n",
    "from statsmodels.formula.api import ols"
   ]
  },
  {
   "cell_type": "code",
   "execution_count": 128,
   "metadata": {},
   "outputs": [
    {
     "data": {
      "text/html": [
       "<table class=\"simpletable\">\n",
       "<caption>OLS Regression Results</caption>\n",
       "<tr>\n",
       "  <th>Dep. Variable:</th>    <td>SalePrice_scaled</td> <th>  R-squared:         </th> <td>   0.839</td>\n",
       "</tr>\n",
       "<tr>\n",
       "  <th>Model:</th>                   <td>OLS</td>       <th>  Adj. R-squared:    </th> <td>   0.834</td>\n",
       "</tr>\n",
       "<tr>\n",
       "  <th>Method:</th>             <td>Least Squares</td>  <th>  F-statistic:       </th> <td>   156.5</td>\n",
       "</tr>\n",
       "<tr>\n",
       "  <th>Date:</th>             <td>Sat, 27 Nov 2021</td> <th>  Prob (F-statistic):</th>  <td>  0.00</td> \n",
       "</tr>\n",
       "<tr>\n",
       "  <th>Time:</th>                 <td>22:49:57</td>     <th>  Log-Likelihood:    </th> <td> -738.64</td>\n",
       "</tr>\n",
       "<tr>\n",
       "  <th>No. Observations:</th>      <td>  1460</td>      <th>  AIC:               </th> <td>   1573.</td>\n",
       "</tr>\n",
       "<tr>\n",
       "  <th>Df Residuals:</th>          <td>  1412</td>      <th>  BIC:               </th> <td>   1827.</td>\n",
       "</tr>\n",
       "<tr>\n",
       "  <th>Df Model:</th>              <td>    47</td>      <th>                     </th>     <td> </td>   \n",
       "</tr>\n",
       "<tr>\n",
       "  <th>Covariance Type:</th>      <td>nonrobust</td>    <th>                     </th>     <td> </td>   \n",
       "</tr>\n",
       "</table>\n",
       "<table class=\"simpletable\">\n",
       "<tr>\n",
       "          <td></td>             <th>coef</th>     <th>std err</th>      <th>t</th>      <th>P>|t|</th>  <th>[0.025</th>    <th>0.975]</th>  \n",
       "</tr>\n",
       "<tr>\n",
       "  <th>Intercept</th>         <td>   -0.1317</td> <td>    0.263</td> <td>   -0.500</td> <td> 0.617</td> <td>   -0.648</td> <td>    0.385</td>\n",
       "</tr>\n",
       "<tr>\n",
       "  <th>LotArea_scaled</th>    <td>    0.1033</td> <td>    0.019</td> <td>    5.475</td> <td> 0.000</td> <td>    0.066</td> <td>    0.140</td>\n",
       "</tr>\n",
       "<tr>\n",
       "  <th>FirstFlrSF_scaled</th> <td>    0.1371</td> <td>    0.016</td> <td>    8.584</td> <td> 0.000</td> <td>    0.106</td> <td>    0.168</td>\n",
       "</tr>\n",
       "<tr>\n",
       "  <th>GrLivArea_scaled</th>  <td>    0.3768</td> <td>    0.016</td> <td>   24.114</td> <td> 0.000</td> <td>    0.346</td> <td>    0.407</td>\n",
       "</tr>\n",
       "<tr>\n",
       "  <th>BType_2fmCon</th>      <td>   -0.1715</td> <td>    0.079</td> <td>   -2.173</td> <td> 0.030</td> <td>   -0.326</td> <td>   -0.017</td>\n",
       "</tr>\n",
       "<tr>\n",
       "  <th>BType_Duplex</th>      <td>   -0.4205</td> <td>    0.062</td> <td>   -6.813</td> <td> 0.000</td> <td>   -0.542</td> <td>   -0.299</td>\n",
       "</tr>\n",
       "<tr>\n",
       "  <th>BType_Twnhs</th>       <td>   -0.1404</td> <td>    0.093</td> <td>   -1.513</td> <td> 0.130</td> <td>   -0.322</td> <td>    0.042</td>\n",
       "</tr>\n",
       "<tr>\n",
       "  <th>BType_TwnhsE</th>      <td>   -0.0512</td> <td>    0.060</td> <td>   -0.858</td> <td> 0.391</td> <td>   -0.168</td> <td>    0.066</td>\n",
       "</tr>\n",
       "<tr>\n",
       "  <th>KQual_Fa</th>          <td>   -1.0002</td> <td>    0.088</td> <td>  -11.315</td> <td> 0.000</td> <td>   -1.174</td> <td>   -0.827</td>\n",
       "</tr>\n",
       "<tr>\n",
       "  <th>KQual_Gd</th>          <td>   -0.3822</td> <td>    0.050</td> <td>   -7.613</td> <td> 0.000</td> <td>   -0.481</td> <td>   -0.284</td>\n",
       "</tr>\n",
       "<tr>\n",
       "  <th>KQual_TA</th>          <td>   -0.6695</td> <td>    0.055</td> <td>  -12.111</td> <td> 0.000</td> <td>   -0.778</td> <td>   -0.561</td>\n",
       "</tr>\n",
       "<tr>\n",
       "  <th>SType_CWD</th>         <td>    0.2286</td> <td>    0.215</td> <td>    1.061</td> <td> 0.289</td> <td>   -0.194</td> <td>    0.651</td>\n",
       "</tr>\n",
       "<tr>\n",
       "  <th>SType_Con</th>         <td>    0.5863</td> <td>    0.304</td> <td>    1.927</td> <td> 0.054</td> <td>   -0.010</td> <td>    1.183</td>\n",
       "</tr>\n",
       "<tr>\n",
       "  <th>SType_ConLD</th>       <td>    0.3152</td> <td>    0.155</td> <td>    2.029</td> <td> 0.043</td> <td>    0.010</td> <td>    0.620</td>\n",
       "</tr>\n",
       "<tr>\n",
       "  <th>SType_ConLI</th>       <td>    0.0331</td> <td>    0.195</td> <td>    0.169</td> <td> 0.865</td> <td>   -0.350</td> <td>    0.416</td>\n",
       "</tr>\n",
       "<tr>\n",
       "  <th>SType_ConLw</th>       <td>    0.0161</td> <td>    0.196</td> <td>    0.082</td> <td> 0.935</td> <td>   -0.368</td> <td>    0.400</td>\n",
       "</tr>\n",
       "<tr>\n",
       "  <th>SType_New</th>         <td>    0.3000</td> <td>    0.079</td> <td>    3.803</td> <td> 0.000</td> <td>    0.145</td> <td>    0.455</td>\n",
       "</tr>\n",
       "<tr>\n",
       "  <th>SType_Oth</th>         <td>    0.1179</td> <td>    0.246</td> <td>    0.480</td> <td> 0.631</td> <td>   -0.364</td> <td>    0.599</td>\n",
       "</tr>\n",
       "<tr>\n",
       "  <th>SType_WD</th>          <td>    0.1749</td> <td>    0.065</td> <td>    2.676</td> <td> 0.008</td> <td>    0.047</td> <td>    0.303</td>\n",
       "</tr>\n",
       "<tr>\n",
       "  <th>MSZ_FV</th>            <td>    1.0670</td> <td>    0.193</td> <td>    5.526</td> <td> 0.000</td> <td>    0.688</td> <td>    1.446</td>\n",
       "</tr>\n",
       "<tr>\n",
       "  <th>MSZ_RH</th>            <td>    0.8771</td> <td>    0.194</td> <td>    4.512</td> <td> 0.000</td> <td>    0.496</td> <td>    1.258</td>\n",
       "</tr>\n",
       "<tr>\n",
       "  <th>MSZ_RL</th>            <td>    0.9964</td> <td>    0.162</td> <td>    6.151</td> <td> 0.000</td> <td>    0.679</td> <td>    1.314</td>\n",
       "</tr>\n",
       "<tr>\n",
       "  <th>MSZ_RM</th>            <td>    1.1027</td> <td>    0.152</td> <td>    7.264</td> <td> 0.000</td> <td>    0.805</td> <td>    1.400</td>\n",
       "</tr>\n",
       "<tr>\n",
       "  <th>Str_Pave</th>          <td>   -0.2132</td> <td>    0.180</td> <td>   -1.182</td> <td> 0.237</td> <td>   -0.567</td> <td>    0.141</td>\n",
       "</tr>\n",
       "<tr>\n",
       "  <th>Neigh_Blueste</th>     <td>    0.0530</td> <td>    0.318</td> <td>    0.167</td> <td> 0.868</td> <td>   -0.571</td> <td>    0.677</td>\n",
       "</tr>\n",
       "<tr>\n",
       "  <th>Neigh_BrDale</th>      <td>   -0.4629</td> <td>    0.171</td> <td>   -2.711</td> <td> 0.007</td> <td>   -0.798</td> <td>   -0.128</td>\n",
       "</tr>\n",
       "<tr>\n",
       "  <th>Neigh_BrkSide</th>     <td>   -0.6500</td> <td>    0.137</td> <td>   -4.735</td> <td> 0.000</td> <td>   -0.919</td> <td>   -0.381</td>\n",
       "</tr>\n",
       "<tr>\n",
       "  <th>Neigh_ClearCr</th>     <td>   -0.2103</td> <td>    0.144</td> <td>   -1.456</td> <td> 0.146</td> <td>   -0.494</td> <td>    0.073</td>\n",
       "</tr>\n",
       "<tr>\n",
       "  <th>Neigh_CollgCr</th>     <td>   -0.0761</td> <td>    0.119</td> <td>   -0.641</td> <td> 0.522</td> <td>   -0.309</td> <td>    0.157</td>\n",
       "</tr>\n",
       "<tr>\n",
       "  <th>Neigh_Crawfor</th>     <td>   -0.0824</td> <td>    0.129</td> <td>   -0.638</td> <td> 0.523</td> <td>   -0.336</td> <td>    0.171</td>\n",
       "</tr>\n",
       "<tr>\n",
       "  <th>Neigh_Edwards</th>     <td>   -0.7615</td> <td>    0.124</td> <td>   -6.143</td> <td> 0.000</td> <td>   -1.005</td> <td>   -0.518</td>\n",
       "</tr>\n",
       "<tr>\n",
       "  <th>Neigh_Gilbert</th>     <td>   -0.0980</td> <td>    0.126</td> <td>   -0.777</td> <td> 0.437</td> <td>   -0.346</td> <td>    0.150</td>\n",
       "</tr>\n",
       "<tr>\n",
       "  <th>Neigh_IDOTRR</th>      <td>   -0.9622</td> <td>    0.160</td> <td>   -6.014</td> <td> 0.000</td> <td>   -1.276</td> <td>   -0.648</td>\n",
       "</tr>\n",
       "<tr>\n",
       "  <th>Neigh_MeadowV</th>     <td>   -0.6921</td> <td>    0.159</td> <td>   -4.351</td> <td> 0.000</td> <td>   -1.004</td> <td>   -0.380</td>\n",
       "</tr>\n",
       "<tr>\n",
       "  <th>Neigh_Mitchel</th>     <td>   -0.2554</td> <td>    0.131</td> <td>   -1.944</td> <td> 0.052</td> <td>   -0.513</td> <td>    0.002</td>\n",
       "</tr>\n",
       "<tr>\n",
       "  <th>Neigh_NAmes</th>       <td>   -0.4408</td> <td>    0.120</td> <td>   -3.664</td> <td> 0.000</td> <td>   -0.677</td> <td>   -0.205</td>\n",
       "</tr>\n",
       "<tr>\n",
       "  <th>Neigh_NPkVill</th>     <td>   -0.0160</td> <td>    0.173</td> <td>   -0.092</td> <td> 0.927</td> <td>   -0.356</td> <td>    0.324</td>\n",
       "</tr>\n",
       "<tr>\n",
       "  <th>Neigh_NWAmes</th>      <td>   -0.2677</td> <td>    0.126</td> <td>   -2.122</td> <td> 0.034</td> <td>   -0.515</td> <td>   -0.020</td>\n",
       "</tr>\n",
       "<tr>\n",
       "  <th>Neigh_NoRidge</th>     <td>    0.3633</td> <td>    0.133</td> <td>    2.737</td> <td> 0.006</td> <td>    0.103</td> <td>    0.624</td>\n",
       "</tr>\n",
       "<tr>\n",
       "  <th>Neigh_NridgHt</th>     <td>    0.3627</td> <td>    0.120</td> <td>    3.029</td> <td> 0.002</td> <td>    0.128</td> <td>    0.598</td>\n",
       "</tr>\n",
       "<tr>\n",
       "  <th>Neigh_OldTown</th>     <td>   -0.9354</td> <td>    0.140</td> <td>   -6.686</td> <td> 0.000</td> <td>   -1.210</td> <td>   -0.661</td>\n",
       "</tr>\n",
       "<tr>\n",
       "  <th>Neigh_SWISU</th>       <td>   -0.7000</td> <td>    0.144</td> <td>   -4.845</td> <td> 0.000</td> <td>   -0.983</td> <td>   -0.417</td>\n",
       "</tr>\n",
       "<tr>\n",
       "  <th>Neigh_Sawyer</th>      <td>   -0.4756</td> <td>    0.128</td> <td>   -3.727</td> <td> 0.000</td> <td>   -0.726</td> <td>   -0.225</td>\n",
       "</tr>\n",
       "<tr>\n",
       "  <th>Neigh_SawyerW</th>     <td>   -0.2332</td> <td>    0.125</td> <td>   -1.860</td> <td> 0.063</td> <td>   -0.479</td> <td>    0.013</td>\n",
       "</tr>\n",
       "<tr>\n",
       "  <th>Neigh_Somerst</th>     <td>    0.0951</td> <td>    0.145</td> <td>    0.658</td> <td> 0.511</td> <td>   -0.188</td> <td>    0.379</td>\n",
       "</tr>\n",
       "<tr>\n",
       "  <th>Neigh_StoneBr</th>     <td>    0.4297</td> <td>    0.133</td> <td>    3.232</td> <td> 0.001</td> <td>    0.169</td> <td>    0.691</td>\n",
       "</tr>\n",
       "<tr>\n",
       "  <th>Neigh_Timber</th>      <td>    0.0057</td> <td>    0.134</td> <td>    0.042</td> <td> 0.966</td> <td>   -0.257</td> <td>    0.269</td>\n",
       "</tr>\n",
       "<tr>\n",
       "  <th>Neigh_Veenker</th>     <td>    0.1277</td> <td>    0.169</td> <td>    0.754</td> <td> 0.451</td> <td>   -0.204</td> <td>    0.460</td>\n",
       "</tr>\n",
       "</table>\n",
       "<table class=\"simpletable\">\n",
       "<tr>\n",
       "  <th>Omnibus:</th>       <td>289.988</td> <th>  Durbin-Watson:     </th> <td>   1.967</td> \n",
       "</tr>\n",
       "<tr>\n",
       "  <th>Prob(Omnibus):</th> <td> 0.000</td>  <th>  Jarque-Bera (JB):  </th> <td>1242.992</td> \n",
       "</tr>\n",
       "<tr>\n",
       "  <th>Skew:</th>          <td>-0.886</td>  <th>  Prob(JB):          </th> <td>1.22e-270</td>\n",
       "</tr>\n",
       "<tr>\n",
       "  <th>Kurtosis:</th>      <td> 7.159</td>  <th>  Cond. No.          </th> <td>    109.</td> \n",
       "</tr>\n",
       "</table><br/><br/>Warnings:<br/>[1] Standard Errors assume that the covariance matrix of the errors is correctly specified."
      ],
      "text/plain": [
       "<class 'statsmodels.iolib.summary.Summary'>\n",
       "\"\"\"\n",
       "                            OLS Regression Results                            \n",
       "==============================================================================\n",
       "Dep. Variable:       SalePrice_scaled   R-squared:                       0.839\n",
       "Model:                            OLS   Adj. R-squared:                  0.834\n",
       "Method:                 Least Squares   F-statistic:                     156.5\n",
       "Date:                Sat, 27 Nov 2021   Prob (F-statistic):               0.00\n",
       "Time:                        22:49:57   Log-Likelihood:                -738.64\n",
       "No. Observations:                1460   AIC:                             1573.\n",
       "Df Residuals:                    1412   BIC:                             1827.\n",
       "Df Model:                          47                                         \n",
       "Covariance Type:            nonrobust                                         \n",
       "=====================================================================================\n",
       "                        coef    std err          t      P>|t|      [0.025      0.975]\n",
       "-------------------------------------------------------------------------------------\n",
       "Intercept            -0.1317      0.263     -0.500      0.617      -0.648       0.385\n",
       "LotArea_scaled        0.1033      0.019      5.475      0.000       0.066       0.140\n",
       "FirstFlrSF_scaled     0.1371      0.016      8.584      0.000       0.106       0.168\n",
       "GrLivArea_scaled      0.3768      0.016     24.114      0.000       0.346       0.407\n",
       "BType_2fmCon         -0.1715      0.079     -2.173      0.030      -0.326      -0.017\n",
       "BType_Duplex         -0.4205      0.062     -6.813      0.000      -0.542      -0.299\n",
       "BType_Twnhs          -0.1404      0.093     -1.513      0.130      -0.322       0.042\n",
       "BType_TwnhsE         -0.0512      0.060     -0.858      0.391      -0.168       0.066\n",
       "KQual_Fa             -1.0002      0.088    -11.315      0.000      -1.174      -0.827\n",
       "KQual_Gd             -0.3822      0.050     -7.613      0.000      -0.481      -0.284\n",
       "KQual_TA             -0.6695      0.055    -12.111      0.000      -0.778      -0.561\n",
       "SType_CWD             0.2286      0.215      1.061      0.289      -0.194       0.651\n",
       "SType_Con             0.5863      0.304      1.927      0.054      -0.010       1.183\n",
       "SType_ConLD           0.3152      0.155      2.029      0.043       0.010       0.620\n",
       "SType_ConLI           0.0331      0.195      0.169      0.865      -0.350       0.416\n",
       "SType_ConLw           0.0161      0.196      0.082      0.935      -0.368       0.400\n",
       "SType_New             0.3000      0.079      3.803      0.000       0.145       0.455\n",
       "SType_Oth             0.1179      0.246      0.480      0.631      -0.364       0.599\n",
       "SType_WD              0.1749      0.065      2.676      0.008       0.047       0.303\n",
       "MSZ_FV                1.0670      0.193      5.526      0.000       0.688       1.446\n",
       "MSZ_RH                0.8771      0.194      4.512      0.000       0.496       1.258\n",
       "MSZ_RL                0.9964      0.162      6.151      0.000       0.679       1.314\n",
       "MSZ_RM                1.1027      0.152      7.264      0.000       0.805       1.400\n",
       "Str_Pave             -0.2132      0.180     -1.182      0.237      -0.567       0.141\n",
       "Neigh_Blueste         0.0530      0.318      0.167      0.868      -0.571       0.677\n",
       "Neigh_BrDale         -0.4629      0.171     -2.711      0.007      -0.798      -0.128\n",
       "Neigh_BrkSide        -0.6500      0.137     -4.735      0.000      -0.919      -0.381\n",
       "Neigh_ClearCr        -0.2103      0.144     -1.456      0.146      -0.494       0.073\n",
       "Neigh_CollgCr        -0.0761      0.119     -0.641      0.522      -0.309       0.157\n",
       "Neigh_Crawfor        -0.0824      0.129     -0.638      0.523      -0.336       0.171\n",
       "Neigh_Edwards        -0.7615      0.124     -6.143      0.000      -1.005      -0.518\n",
       "Neigh_Gilbert        -0.0980      0.126     -0.777      0.437      -0.346       0.150\n",
       "Neigh_IDOTRR         -0.9622      0.160     -6.014      0.000      -1.276      -0.648\n",
       "Neigh_MeadowV        -0.6921      0.159     -4.351      0.000      -1.004      -0.380\n",
       "Neigh_Mitchel        -0.2554      0.131     -1.944      0.052      -0.513       0.002\n",
       "Neigh_NAmes          -0.4408      0.120     -3.664      0.000      -0.677      -0.205\n",
       "Neigh_NPkVill        -0.0160      0.173     -0.092      0.927      -0.356       0.324\n",
       "Neigh_NWAmes         -0.2677      0.126     -2.122      0.034      -0.515      -0.020\n",
       "Neigh_NoRidge         0.3633      0.133      2.737      0.006       0.103       0.624\n",
       "Neigh_NridgHt         0.3627      0.120      3.029      0.002       0.128       0.598\n",
       "Neigh_OldTown        -0.9354      0.140     -6.686      0.000      -1.210      -0.661\n",
       "Neigh_SWISU          -0.7000      0.144     -4.845      0.000      -0.983      -0.417\n",
       "Neigh_Sawyer         -0.4756      0.128     -3.727      0.000      -0.726      -0.225\n",
       "Neigh_SawyerW        -0.2332      0.125     -1.860      0.063      -0.479       0.013\n",
       "Neigh_Somerst         0.0951      0.145      0.658      0.511      -0.188       0.379\n",
       "Neigh_StoneBr         0.4297      0.133      3.232      0.001       0.169       0.691\n",
       "Neigh_Timber          0.0057      0.134      0.042      0.966      -0.257       0.269\n",
       "Neigh_Veenker         0.1277      0.169      0.754      0.451      -0.204       0.460\n",
       "==============================================================================\n",
       "Omnibus:                      289.988   Durbin-Watson:                   1.967\n",
       "Prob(Omnibus):                  0.000   Jarque-Bera (JB):             1242.992\n",
       "Skew:                          -0.886   Prob(JB):                    1.22e-270\n",
       "Kurtosis:                       7.159   Cond. No.                         109.\n",
       "==============================================================================\n",
       "\n",
       "Warnings:\n",
       "[1] Standard Errors assume that the covariance matrix of the errors is correctly specified.\n",
       "\"\"\""
      ]
     },
     "execution_count": 128,
     "metadata": {},
     "output_type": "execute_result"
    }
   ],
   "source": [
    "# Your code here\n",
    "outcome = 'SalePrice_scaled'\n",
    "predictors = ames_preprocessed.drop([outcome], axis=1)\n",
    "pred_sum = '+'.join(predictors.columns)\n",
    "formula = outcome + '~' + pred_sum\n",
    "model = ols(formula=formula, data=ames_preprocessed).fit()\n",
    "model.summary()"
   ]
  },
  {
   "cell_type": "markdown",
   "metadata": {},
   "source": [
    "## Run the same model in scikit-learn"
   ]
  },
  {
   "cell_type": "code",
   "execution_count": 129,
   "metadata": {},
   "outputs": [],
   "source": [
    "from sklearn.linear_model import LinearRegression"
   ]
  },
  {
   "cell_type": "code",
   "execution_count": 130,
   "metadata": {},
   "outputs": [
    {
     "data": {
      "text/plain": [
       "LinearRegression(copy_X=True, fit_intercept=True, n_jobs=None, normalize=False)"
      ]
     },
     "execution_count": 130,
     "metadata": {},
     "output_type": "execute_result"
    }
   ],
   "source": [
    "# Your code here - Check that the coefficients and intercept are the same as those from Statsmodels\n",
    "y = ames_preprocessed['SalePrice_scaled']\n",
    "linreg = LinearRegression()\n",
    "linreg.fit(predictors, y)"
   ]
  },
  {
   "cell_type": "code",
   "execution_count": 131,
   "metadata": {},
   "outputs": [
    {
     "name": "stdout",
     "output_type": "stream",
     "text": [
      "Coefficients:  [ 0.10327192  0.1371289   0.37682133 -0.17152105 -0.42048287 -0.14038921\n",
      " -0.05121949 -1.00020261 -0.38215288 -0.6694784   0.22855565  0.58627941\n",
      "  0.31521364  0.03310544  0.01609215  0.29995612  0.1178827   0.17486316\n",
      "  1.06700108  0.8771105   0.99643261  1.10266268 -0.21318409  0.0529509\n",
      " -0.46287108 -0.65004527 -0.21026441 -0.0761186  -0.08236455 -0.76152767\n",
      " -0.09803299 -0.96216285 -0.6920628  -0.25540919 -0.4408245  -0.01595592\n",
      " -0.26772132  0.36325607  0.36272091 -0.93537011 -0.70000301 -0.47559431\n",
      " -0.23317719  0.09506225  0.42971796  0.00569435  0.12766986]\n",
      "Intercept:  -0.1317424941874434\n"
     ]
    }
   ],
   "source": [
    "print('Coefficients: ', linreg.coef_)\n",
    "print('Intercept: ', linreg.intercept_)"
   ]
  },
  {
   "cell_type": "markdown",
   "metadata": {},
   "source": [
    "## Predict the house price given the following characteristics (before manipulation!!)\n",
    "\n",
    "Make sure to transform your variables as needed!\n",
    "\n",
    "- LotArea: 14977\n",
    "- 1stFlrSF: 1976\n",
    "- GrLivArea: 1976\n",
    "- BldgType: 1Fam\n",
    "- KitchenQual: Gd\n",
    "- SaleType: New\n",
    "- MSZoning: RL\n",
    "- Street: Pave\n",
    "- Neighborhood: NridgHt"
   ]
  },
  {
   "cell_type": "code",
   "execution_count": 132,
   "metadata": {},
   "outputs": [
    {
     "data": {
      "text/plain": [
       "dict_keys(['LotArea_scaled', 'FirstFlrSF_scaled', 'GrLivArea_scaled', 'BType_2fmCon', 'BType_Duplex', 'BType_Twnhs', 'BType_TwnhsE', 'KQual_Fa', 'KQual_Gd', 'KQual_TA', 'SType_CWD', 'SType_Con', 'SType_ConLD', 'SType_ConLI', 'SType_ConLw', 'SType_New', 'SType_Oth', 'SType_WD', 'MSZ_FV', 'MSZ_RH', 'MSZ_RL', 'MSZ_RM', 'Str_Pave', 'Neigh_Blueste', 'Neigh_BrDale', 'Neigh_BrkSide', 'Neigh_ClearCr', 'Neigh_CollgCr', 'Neigh_Crawfor', 'Neigh_Edwards', 'Neigh_Gilbert', 'Neigh_IDOTRR', 'Neigh_MeadowV', 'Neigh_Mitchel', 'Neigh_NAmes', 'Neigh_NPkVill', 'Neigh_NWAmes', 'Neigh_NoRidge', 'Neigh_NridgHt', 'Neigh_OldTown', 'Neigh_SWISU', 'Neigh_Sawyer', 'Neigh_SawyerW', 'Neigh_Somerst', 'Neigh_StoneBr', 'Neigh_Timber', 'Neigh_Veenker'])"
      ]
     },
     "execution_count": 132,
     "metadata": {},
     "output_type": "execute_result"
    }
   ],
   "source": [
    "intercept = linreg.intercept_\n",
    "coefficients = linreg.coef_\n",
    "predictor_names = ames_preprocessed.drop('SalePrice_scaled', axis=1).columns\n",
    "dic_coeff = {predictor_names[i]: coefficients[i] for i in range(len(predictor_names))}\n",
    "dic_coeff.keys()"
   ]
  },
  {
   "cell_type": "code",
   "execution_count": null,
   "metadata": {},
   "outputs": [],
   "source": [
    "define normalize(value, sample):\n",
    "    "
   ]
  },
  {
   "cell_type": "code",
   "execution_count": 133,
   "metadata": {},
   "outputs": [],
   "source": [
    "m_LotArea = dic_coeff['LotArea_scaled']\n",
    "m_1stFlrSF = dic_coeff['FirstFlrSF_scaled']\n",
    "m_BldgType_1Fam = 1 - dic_coeff['BType_2fmCon'] - dic_coeff['BType_Duplex'] - dic_coeff['BType_Twnhs'] - dic_coeff['BType_TwnhsE']\n",
    "m_KitchenQual_Gd = dic_coeff['KQual_Gd']\n",
    "m_SaleType_New = dic_coeff['SType_New']\n",
    "m_MSZoning_RL = dic_coeff['MSZ_RL']\n",
    "m_Street_Pave = dic_coeff['Str_Pave']\n",
    "m_Neighborhood_NridgHt = dic_coeff['Neigh_NridgHt']"
   ]
  },
  {
   "cell_type": "code",
   "execution_count": 155,
   "metadata": {},
   "outputs": [],
   "source": [
    "def log_normalize(value, sample):\n",
    "    value_log = np.log(value)\n",
    "    sample_log = np.log(sample)\n",
    "    return (value_log - np.mean(sample_log)) / np.std(sample_log)\n",
    "\n",
    "LotArea_value = 14977\n",
    "FirstFlrSF_value = 1976\n",
    "GrLivArea_value = 1976\n",
    "\n",
    "LotArea_value_scaled = log_normalize(LotArea_value, ames['LotArea'])\n",
    "FirstFlrSF_value_scaled = log_normalize(FirstFlrSF_value, ames['1stFlrSF'])\n",
    "GrLivArea_value_scaled = log_normalize(GrLivArea_value, ames['GrLivArea'])"
   ]
  },
  {
   "cell_type": "code",
   "execution_count": 156,
   "metadata": {},
   "outputs": [
    {
     "name": "stdout",
     "output_type": "stream",
     "text": [
      "Predicted Sale Price Scaled:  3.4299627839749203\n"
     ]
    }
   ],
   "source": [
    "predictedSalePrice_scaled  = intercept + m_LotArea*LotArea_value_scaled + m_1stFlrSF*FirstFlrSF_value_scaled \\\n",
    "                        + m_GrLivArea*GrLivArea_value_scaled + m_BldgType_1Fam + m_KitchenQual_Gd \\\n",
    "                        + m_SaleType_New + m_MSZoning_RL + m_Street_Pave + m_Neighborhood_NridgHt \n",
    "print('Predicted Sale Price Scaled: ', predictedSalePrice_scaled)"
   ]
  },
  {
   "cell_type": "code",
   "execution_count": 157,
   "metadata": {},
   "outputs": [
    {
     "data": {
      "text/plain": [
       "<matplotlib.axes._subplots.AxesSubplot at 0x7fd0d9a7e780>"
      ]
     },
     "execution_count": 157,
     "metadata": {},
     "output_type": "execute_result"
    },
    {
     "data": {
      "image/png": "[encoded data removed]",
      "text/plain": [
       "<Figure size 432x288 with 1 Axes>"
      ]
     },
     "metadata": {
      "needs_background": "light"
     },
     "output_type": "display_data"
    }
   ],
   "source": [
    "ames_preprocessed['SalePrice_scaled'].hist(bins='auto')"
   ]
  },
  {
   "cell_type": "code",
   "execution_count": 170,
   "metadata": {},
   "outputs": [
    {
     "name": "stdout",
     "output_type": "stream",
     "text": [
      "12.024050901109383\n",
      "0.39931504624370256\n",
      "Predicted Sale Price:  655849.5183198121\n"
     ]
    }
   ],
   "source": [
    "mean_salePrice_log = np.mean(np.log(ames['SalePrice']))\n",
    "std_salePrice_log = np.std(np.log(ames['SalePrice']))\n",
    "print(mean_salePrice_log)\n",
    "print(std_salePrice_log)\n",
    "predicted_SalePrice = np.exp(predictedSalePrice_scaled*std_salePrice_log + mean_salePrice_log)\n",
    "print('Predicted Sale Price: ', predicted_SalePrice)"
   ]
  },
  {
   "cell_type": "code",
   "execution_count": 171,
   "metadata": {
    "scrolled": true
   },
   "outputs": [
    {
     "data": {
      "text/plain": [
       "<matplotlib.axes._subplots.AxesSubplot at 0x7fd0d9e74630>"
      ]
     },
     "execution_count": 171,
     "metadata": {},
     "output_type": "execute_result"
    },
    {
     "data": {
      "image/png": "[encoded data removed]",
      "text/plain": [
       "<Figure size 432x288 with 1 Axes>"
      ]
     },
     "metadata": {
      "needs_background": "light"
     },
     "output_type": "display_data"
    }
   ],
   "source": [
    "ames['SalePrice'].hist(bins='auto')"
   ]
  },
  {
   "cell_type": "markdown",
   "metadata": {},
   "source": [
    "## Summary\n",
    "Congratulations! You pre-processed the Ames Housing data using scaling and standardization. You also fitted your first multiple linear regression model on the Ames Housing data using statsmodels and scikit-learn!"
   ]
  }
 ],
 "metadata": {
  "kernelspec": {
   "display_name": "Python 3",
   "language": "python",
   "name": "python3"
  },
  "language_info": {
   "codemirror_mode": {
    "name": "ipython",
    "version": 3
   },
   "file_extension": ".py",
   "mimetype": "text/x-python",
   "name": "python",
   "nbconvert_exporter": "python",
   "pygments_lexer": "ipython3",
   "version": "3.6.9"
  }
 },
 "nbformat": 4,
 "nbformat_minor": 2
}
